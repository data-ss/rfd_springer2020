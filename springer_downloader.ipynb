{
 "cells": [
  {
   "cell_type": "markdown",
   "metadata": {},
   "source": [
    "### `springer.py` is the same script"
   ]
  },
  {
   "cell_type": "code",
   "execution_count": null,
   "metadata": {},
   "outputs": [],
   "source": [
    "import pandas as pd\n",
    "import os\n",
    "import requests\n",
    "from pydrive.auth import GoogleAuth\n",
    "from pydrive.drive import GoogleDrive\n",
    "from tqdm import tqdm\n",
    "\n",
    "txtcsv = pd.read_excel(\"downloadURL.xlsx\")"
   ]
  },
  {
   "cell_type": "markdown",
   "metadata": {},
   "source": [
    "#### Automatic upload to Google Drive is built-in. Download your client_secrets.json file and place it on the same level as this notebook before proceeding to the next cell.\n",
    "\n",
    "#### You will then be prompted to authorize the app."
   ]
  },
  {
   "cell_type": "code",
   "execution_count": null,
   "metadata": {},
   "outputs": [],
   "source": [
    "### Functions and calls to Google Pydrive to automatically upload to Google Drive\n",
    "gauth = GoogleAuth()\n",
    "gauth.LocalWebserverAuth() # Creates local webserver and auto handles authentication.\n",
    "drive = GoogleDrive(gauth)\n",
    "\n",
    "def createDriveFolder(folderName):\n",
    "    folder_metadata = {'title' : folderName, 'mimeType' : 'application/vnd.google-apps.folder'}\n",
    "    folder = drive.CreateFile(folder_metadata)\n",
    "    folder.Upload()\n",
    "    foldertitle = folder['title']\n",
    "    folderid = folder['id']\n",
    "    print('title: %s, id: %s' % (foldertitle, folderid))\n",
    "    return folderid\n",
    "\n",
    "def uploadDriveFile(folderid, file_path):\n",
    "    file = drive.CreateFile({\"parents\": [{\"kind\": \"drive#fileLink\", \"id\": folderid}], 'title': os.path.basename(os.path.abspath(file_path))})\n",
    "    file.SetContentFile(os.path.abspath(file_path))\n",
    "    file.Upload()"
   ]
  },
  {
   "cell_type": "code",
   "execution_count": null,
   "metadata": {},
   "outputs": [],
   "source": [
    "for i in tqdm(txtcsv[\"English Package Name\"].unique()):\n",
    "    os.makedirs(i) # create directory\n",
    "    os.chdir(i) # change working directory into new directory\n",
    "    drive_id = createDriveFolder(i)\n",
    "    count = txtcsv[\"PDF download URL\"][txtcsv[\"English Package Name\"] == i].count() # tally up how many books in this field\n",
    "    print(f\"\\nDownloading {count} books in the {i} field.\\n\")\n",
    "    for j in tqdm(txtcsv[\"PDF download URL\"][txtcsv[\"English Package Name\"] == i]):\n",
    "        title = txtcsv[\"Book Title\"][txtcsv[\"PDF download URL\"]==j].values[0].replace(\"/\", \" or \")\n",
    "        # \"/\" is not a valid character for naming files or folders so they need to be replaced\n",
    "        print(f\"\\nAccessing book: {title}.\\n\")\n",
    "        r = requests.get(j, auth=('user', 'pass'))\n",
    "        open(f\"\\n{title}.pdf\", 'wb').write(r.content)\n",
    "        if os.path.isfile(f\"{title}.pdf\"):\n",
    "            print(f\"\\n{title} is now in the {i} folder.\\n\")\n",
    "        else:\n",
    "            print(f\"\\n{title} failed to download.\\n\")\n",
    "        uploadDriveFile(drive_id, f\"{title}.pdf\")\n",
    "    os.chdir(\"..\")\n",
    "    print(f\"\\nAll books in the {i} category have been downloaded.\\n\")"
   ]
  },
  {
   "cell_type": "code",
   "execution_count": null,
   "metadata": {},
   "outputs": [],
   "source": []
  }
 ],
 "metadata": {
  "kernelspec": {
   "display_name": "Python 3",
   "language": "python",
   "name": "python3"
  },
  "language_info": {
   "codemirror_mode": {
    "name": "ipython",
    "version": 3
   },
   "file_extension": ".py",
   "mimetype": "text/x-python",
   "name": "python",
   "nbconvert_exporter": "python",
   "pygments_lexer": "ipython3",
   "version": "3.7.3"
  }
 },
 "nbformat": 4,
 "nbformat_minor": 4
}
