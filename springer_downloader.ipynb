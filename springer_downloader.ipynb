{
 "cells": [
  {
   "cell_type": "markdown",
   "metadata": {},
   "source": [
    "### `springer.py` is the same script"
   ]
  },
  {
   "cell_type": "code",
   "execution_count": null,
   "metadata": {},
   "outputs": [],
   "source": [
    "import pandas as pd\n",
    "import os\n",
    "import requests\n",
    "\n",
    "txtcsv = pd.read_excel(\"downloadURL.xlsx\")"
   ]
  },
  {
   "cell_type": "code",
   "execution_count": null,
   "metadata": {},
   "outputs": [],
   "source": [
    "for i in txtcsv[\"English Package Name\"].unique():\n",
    "    os.makedirs(i)\n",
    "    os.chdir(i)\n",
    "    count = txtcsv[\"PDF download URL\"][txtcsv[\"English Package Name\"] == i].count()\n",
    "    print(f\"Downloading {count} books in the {i} field.\")\n",
    "    for j in txtcsv[\"PDF download URL\"][txtcsv[\"English Package Name\"] == i]:\n",
    "        title = txtcsv[\"Book Title\"][txtcsv[\"PDF download URL\"]==j].values[0]\n",
    "        print(f\"Accessing book: {title}.\")\n",
    "        r = requests.get(j, auth=('user', 'pass'))\n",
    "        open(f\"{title}.pdf\", 'wb').write(r.content)\n",
    "        if os.path.isfile(f\"{title}.pdf\"):\n",
    "            print(f\"{title} is now in the {i} folder.\")\n",
    "        else:\n",
    "            print(f\"{title} failed to download.\")\n",
    "    os.chdir(\"..\")\n",
    "    print(f\"All books in the {i} category have been downloaded.\")"
   ]
  },
  {
   "cell_type": "code",
   "execution_count": null,
   "metadata": {},
   "outputs": [],
   "source": []
  }
 ],
 "metadata": {
  "kernelspec": {
   "display_name": "Python 3",
   "language": "python",
   "name": "python3"
  },
  "language_info": {
   "codemirror_mode": {
    "name": "ipython",
    "version": 3
   },
   "file_extension": ".py",
   "mimetype": "text/x-python",
   "name": "python",
   "nbconvert_exporter": "python",
   "pygments_lexer": "ipython3",
   "version": "3.7.3"
  }
 },
 "nbformat": 4,
 "nbformat_minor": 4
}
